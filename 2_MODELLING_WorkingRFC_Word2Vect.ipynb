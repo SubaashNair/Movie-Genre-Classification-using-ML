{
 "cells": [
  {
   "cell_type": "code",
   "execution_count": 24,
   "id": "39c9d609-2c97-4a16-b6a3-a1dc6c1127bb",
   "metadata": {
    "tags": []
   },
   "outputs": [],
   "source": [
    "import pandas as pd\n",
    "from sklearn.ensemble import RandomForestClassifier\n",
    "from sklearn.tree import DecisionTreeClassifier\n",
    "from sklearn.svm import SVC\n",
    "from sklearn.metrics import accuracy_score, precision_score, f1_score, hamming_loss\n",
    "from sklearn.model_selection import train_test_split\n",
    "import nltk\n",
    "from nltk.tokenize import word_tokenize\n",
    "import numpy as np\n",
    "from imblearn.over_sampling import RandomOverSampler"
   ]
  },
  {
   "cell_type": "code",
   "execution_count": 25,
   "id": "9d0b86f2-8213-4b46-83fb-59b7ae3ddc97",
   "metadata": {
    "tags": []
   },
   "outputs": [],
   "source": [
    "df = pd.read_csv('finalmovie.csv')"
   ]
  },
  {
   "cell_type": "code",
   "execution_count": 26,
   "id": "26335ff9-eba8-43de-90f1-08f8b4a8402f",
   "metadata": {
    "tags": []
   },
   "outputs": [
    {
     "data": {
      "text/html": [
       "<div>\n",
       "<style scoped>\n",
       "    .dataframe tbody tr th:only-of-type {\n",
       "        vertical-align: middle;\n",
       "    }\n",
       "\n",
       "    .dataframe tbody tr th {\n",
       "        vertical-align: top;\n",
       "    }\n",
       "\n",
       "    .dataframe thead th {\n",
       "        text-align: right;\n",
       "    }\n",
       "</style>\n",
       "<table border=\"1\" class=\"dataframe\">\n",
       "  <thead>\n",
       "    <tr style=\"text-align: right;\">\n",
       "      <th></th>\n",
       "      <th>title</th>\n",
       "      <th>new_genre</th>\n",
       "      <th>corpus</th>\n",
       "      <th>genre_length</th>\n",
       "      <th>action</th>\n",
       "      <th>adventure</th>\n",
       "      <th>animation</th>\n",
       "      <th>biography</th>\n",
       "      <th>comedy</th>\n",
       "      <th>crime</th>\n",
       "      <th>...</th>\n",
       "      <th>horror</th>\n",
       "      <th>music</th>\n",
       "      <th>musical</th>\n",
       "      <th>mystery</th>\n",
       "      <th>romance</th>\n",
       "      <th>sci-fi</th>\n",
       "      <th>sport</th>\n",
       "      <th>thriller</th>\n",
       "      <th>war</th>\n",
       "      <th>western</th>\n",
       "    </tr>\n",
       "  </thead>\n",
       "  <tbody>\n",
       "    <tr>\n",
       "      <th>0</th>\n",
       "      <td>Avatar: The Way of Water</td>\n",
       "      <td>Action,Adventure,Fantasy</td>\n",
       "      <td>jake sulli life newfound famili form extrasola...</td>\n",
       "      <td>3</td>\n",
       "      <td>1</td>\n",
       "      <td>1</td>\n",
       "      <td>0</td>\n",
       "      <td>0</td>\n",
       "      <td>0</td>\n",
       "      <td>0</td>\n",
       "      <td>...</td>\n",
       "      <td>0</td>\n",
       "      <td>0</td>\n",
       "      <td>0</td>\n",
       "      <td>0</td>\n",
       "      <td>0</td>\n",
       "      <td>0</td>\n",
       "      <td>0</td>\n",
       "      <td>0</td>\n",
       "      <td>0</td>\n",
       "      <td>0</td>\n",
       "    </tr>\n",
       "    <tr>\n",
       "      <th>1</th>\n",
       "      <td>The Menu</td>\n",
       "      <td>Horror,Thriller</td>\n",
       "      <td>young coupl travel remot island eat exclus res...</td>\n",
       "      <td>2</td>\n",
       "      <td>0</td>\n",
       "      <td>0</td>\n",
       "      <td>0</td>\n",
       "      <td>0</td>\n",
       "      <td>0</td>\n",
       "      <td>0</td>\n",
       "      <td>...</td>\n",
       "      <td>1</td>\n",
       "      <td>0</td>\n",
       "      <td>0</td>\n",
       "      <td>0</td>\n",
       "      <td>0</td>\n",
       "      <td>0</td>\n",
       "      <td>0</td>\n",
       "      <td>1</td>\n",
       "      <td>0</td>\n",
       "      <td>0</td>\n",
       "    </tr>\n",
       "    <tr>\n",
       "      <th>2</th>\n",
       "      <td>Babylon</td>\n",
       "      <td>Comedy,Drama,History</td>\n",
       "      <td>tale outsiz ambit outrag excess trace rise fal...</td>\n",
       "      <td>3</td>\n",
       "      <td>0</td>\n",
       "      <td>0</td>\n",
       "      <td>0</td>\n",
       "      <td>0</td>\n",
       "      <td>1</td>\n",
       "      <td>0</td>\n",
       "      <td>...</td>\n",
       "      <td>0</td>\n",
       "      <td>0</td>\n",
       "      <td>0</td>\n",
       "      <td>0</td>\n",
       "      <td>0</td>\n",
       "      <td>0</td>\n",
       "      <td>0</td>\n",
       "      <td>0</td>\n",
       "      <td>0</td>\n",
       "      <td>0</td>\n",
       "    </tr>\n",
       "    <tr>\n",
       "      <th>3</th>\n",
       "      <td>Everything Everywhere All at Once</td>\n",
       "      <td>Action,Adventure,Comedy</td>\n",
       "      <td>middleag chines immigr swept insan adventur al...</td>\n",
       "      <td>3</td>\n",
       "      <td>1</td>\n",
       "      <td>1</td>\n",
       "      <td>0</td>\n",
       "      <td>0</td>\n",
       "      <td>1</td>\n",
       "      <td>0</td>\n",
       "      <td>...</td>\n",
       "      <td>0</td>\n",
       "      <td>0</td>\n",
       "      <td>0</td>\n",
       "      <td>0</td>\n",
       "      <td>0</td>\n",
       "      <td>0</td>\n",
       "      <td>0</td>\n",
       "      <td>0</td>\n",
       "      <td>0</td>\n",
       "      <td>0</td>\n",
       "    </tr>\n",
       "    <tr>\n",
       "      <th>4</th>\n",
       "      <td>M3gan</td>\n",
       "      <td>Horror,Sci-Fi,Thriller</td>\n",
       "      <td>robot engin toy compani build lifelik doll beg...</td>\n",
       "      <td>3</td>\n",
       "      <td>0</td>\n",
       "      <td>0</td>\n",
       "      <td>0</td>\n",
       "      <td>0</td>\n",
       "      <td>0</td>\n",
       "      <td>0</td>\n",
       "      <td>...</td>\n",
       "      <td>1</td>\n",
       "      <td>0</td>\n",
       "      <td>0</td>\n",
       "      <td>0</td>\n",
       "      <td>0</td>\n",
       "      <td>1</td>\n",
       "      <td>0</td>\n",
       "      <td>1</td>\n",
       "      <td>0</td>\n",
       "      <td>0</td>\n",
       "    </tr>\n",
       "  </tbody>\n",
       "</table>\n",
       "<p>5 rows × 25 columns</p>\n",
       "</div>"
      ],
      "text/plain": [
       "                               title                 new_genre  \\\n",
       "0           Avatar: The Way of Water  Action,Adventure,Fantasy   \n",
       "1                           The Menu           Horror,Thriller   \n",
       "2                            Babylon      Comedy,Drama,History   \n",
       "3  Everything Everywhere All at Once   Action,Adventure,Comedy   \n",
       "4                              M3gan    Horror,Sci-Fi,Thriller   \n",
       "\n",
       "                                              corpus  genre_length  action  \\\n",
       "0  jake sulli life newfound famili form extrasola...             3       1   \n",
       "1  young coupl travel remot island eat exclus res...             2       0   \n",
       "2  tale outsiz ambit outrag excess trace rise fal...             3       0   \n",
       "3  middleag chines immigr swept insan adventur al...             3       1   \n",
       "4  robot engin toy compani build lifelik doll beg...             3       0   \n",
       "\n",
       "   adventure  animation  biography  comedy  crime  ...  horror  music  \\\n",
       "0          1          0          0       0      0  ...       0      0   \n",
       "1          0          0          0       0      0  ...       1      0   \n",
       "2          0          0          0       1      0  ...       0      0   \n",
       "3          1          0          0       1      0  ...       0      0   \n",
       "4          0          0          0       0      0  ...       1      0   \n",
       "\n",
       "   musical  mystery  romance  sci-fi  sport  thriller  war  western  \n",
       "0        0        0        0       0      0         0    0        0  \n",
       "1        0        0        0       0      0         1    0        0  \n",
       "2        0        0        0       0      0         0    0        0  \n",
       "3        0        0        0       0      0         0    0        0  \n",
       "4        0        0        0       1      0         1    0        0  \n",
       "\n",
       "[5 rows x 25 columns]"
      ]
     },
     "execution_count": 26,
     "metadata": {},
     "output_type": "execute_result"
    }
   ],
   "source": [
    "df.head()"
   ]
  },
  {
   "cell_type": "code",
   "execution_count": 27,
   "id": "084d30fc-640d-4b72-841b-84938ec960fd",
   "metadata": {
    "tags": []
   },
   "outputs": [],
   "source": [
    "# df = df.drop(['title','new_genre','corpus','genre_length'],axis=1)"
   ]
  },
  {
   "cell_type": "code",
   "execution_count": 28,
   "id": "b5972a09-5e10-49f8-a586-6afb32d0d0cc",
   "metadata": {
    "tags": []
   },
   "outputs": [],
   "source": [
    "# df.iloc[:,4:]"
   ]
  },
  {
   "cell_type": "code",
   "execution_count": 29,
   "id": "11518d33-a24c-4efb-81bc-90e567bb0f94",
   "metadata": {
    "tags": []
   },
   "outputs": [],
   "source": [
    "# df1 = df.iloc[:,:3]"
   ]
  },
  {
   "cell_type": "code",
   "execution_count": 30,
   "id": "fd8d6f2f-4a37-4554-bcb8-1c755cc95f46",
   "metadata": {
    "tags": []
   },
   "outputs": [],
   "source": [
    "# df1.head()"
   ]
  },
  {
   "cell_type": "code",
   "execution_count": 31,
   "id": "781730c1-a61d-4815-b4bf-6fef87a3a93f",
   "metadata": {
    "tags": []
   },
   "outputs": [],
   "source": [
    "# genres = [genre.split(',') for genre in df['new_genre']]"
   ]
  },
  {
   "cell_type": "code",
   "execution_count": 32,
   "id": "d063db8d-0b3b-4edb-9238-fd42118109b1",
   "metadata": {
    "tags": []
   },
   "outputs": [],
   "source": [
    "# from sklearn.preprocessing import MultiLabelBinarizer\n",
    "# import pickle"
   ]
  },
  {
   "cell_type": "code",
   "execution_count": 33,
   "id": "b21498a1-e687-422d-a313-8eec2e0f6e40",
   "metadata": {
    "tags": []
   },
   "outputs": [],
   "source": [
    "# binarizer = MultiLabelBinarizer()\n",
    "# binarizer.fit(genres)"
   ]
  },
  {
   "cell_type": "code",
   "execution_count": 34,
   "id": "f611c7d8-9e42-4d5d-a431-f9990bf11d99",
   "metadata": {
    "tags": []
   },
   "outputs": [],
   "source": [
    "# with open('binarizer.pkl', 'wb') as f:\n",
    "#     pickle.dump(binarizer, f)"
   ]
  },
  {
   "cell_type": "code",
   "execution_count": 35,
   "id": "cec4e12c-6fee-4438-b8b1-7132901ab070",
   "metadata": {
    "tags": []
   },
   "outputs": [
    {
     "data": {
      "text/html": [
       "<div>\n",
       "<style scoped>\n",
       "    .dataframe tbody tr th:only-of-type {\n",
       "        vertical-align: middle;\n",
       "    }\n",
       "\n",
       "    .dataframe tbody tr th {\n",
       "        vertical-align: top;\n",
       "    }\n",
       "\n",
       "    .dataframe thead th {\n",
       "        text-align: right;\n",
       "    }\n",
       "</style>\n",
       "<table border=\"1\" class=\"dataframe\">\n",
       "  <thead>\n",
       "    <tr style=\"text-align: right;\">\n",
       "      <th></th>\n",
       "      <th>title</th>\n",
       "      <th>new_genre</th>\n",
       "      <th>corpus</th>\n",
       "      <th>genre_length</th>\n",
       "      <th>action</th>\n",
       "      <th>adventure</th>\n",
       "      <th>animation</th>\n",
       "      <th>biography</th>\n",
       "      <th>comedy</th>\n",
       "      <th>crime</th>\n",
       "      <th>...</th>\n",
       "      <th>horror</th>\n",
       "      <th>music</th>\n",
       "      <th>musical</th>\n",
       "      <th>mystery</th>\n",
       "      <th>romance</th>\n",
       "      <th>sci-fi</th>\n",
       "      <th>sport</th>\n",
       "      <th>thriller</th>\n",
       "      <th>war</th>\n",
       "      <th>western</th>\n",
       "    </tr>\n",
       "  </thead>\n",
       "  <tbody>\n",
       "    <tr>\n",
       "      <th>0</th>\n",
       "      <td>Avatar: The Way of Water</td>\n",
       "      <td>Action,Adventure,Fantasy</td>\n",
       "      <td>jake sulli life newfound famili form extrasola...</td>\n",
       "      <td>3</td>\n",
       "      <td>1</td>\n",
       "      <td>1</td>\n",
       "      <td>0</td>\n",
       "      <td>0</td>\n",
       "      <td>0</td>\n",
       "      <td>0</td>\n",
       "      <td>...</td>\n",
       "      <td>0</td>\n",
       "      <td>0</td>\n",
       "      <td>0</td>\n",
       "      <td>0</td>\n",
       "      <td>0</td>\n",
       "      <td>0</td>\n",
       "      <td>0</td>\n",
       "      <td>0</td>\n",
       "      <td>0</td>\n",
       "      <td>0</td>\n",
       "    </tr>\n",
       "    <tr>\n",
       "      <th>1</th>\n",
       "      <td>The Menu</td>\n",
       "      <td>Horror,Thriller</td>\n",
       "      <td>young coupl travel remot island eat exclus res...</td>\n",
       "      <td>2</td>\n",
       "      <td>0</td>\n",
       "      <td>0</td>\n",
       "      <td>0</td>\n",
       "      <td>0</td>\n",
       "      <td>0</td>\n",
       "      <td>0</td>\n",
       "      <td>...</td>\n",
       "      <td>1</td>\n",
       "      <td>0</td>\n",
       "      <td>0</td>\n",
       "      <td>0</td>\n",
       "      <td>0</td>\n",
       "      <td>0</td>\n",
       "      <td>0</td>\n",
       "      <td>1</td>\n",
       "      <td>0</td>\n",
       "      <td>0</td>\n",
       "    </tr>\n",
       "    <tr>\n",
       "      <th>2</th>\n",
       "      <td>Babylon</td>\n",
       "      <td>Comedy,Drama,History</td>\n",
       "      <td>tale outsiz ambit outrag excess trace rise fal...</td>\n",
       "      <td>3</td>\n",
       "      <td>0</td>\n",
       "      <td>0</td>\n",
       "      <td>0</td>\n",
       "      <td>0</td>\n",
       "      <td>1</td>\n",
       "      <td>0</td>\n",
       "      <td>...</td>\n",
       "      <td>0</td>\n",
       "      <td>0</td>\n",
       "      <td>0</td>\n",
       "      <td>0</td>\n",
       "      <td>0</td>\n",
       "      <td>0</td>\n",
       "      <td>0</td>\n",
       "      <td>0</td>\n",
       "      <td>0</td>\n",
       "      <td>0</td>\n",
       "    </tr>\n",
       "    <tr>\n",
       "      <th>3</th>\n",
       "      <td>Everything Everywhere All at Once</td>\n",
       "      <td>Action,Adventure,Comedy</td>\n",
       "      <td>middleag chines immigr swept insan adventur al...</td>\n",
       "      <td>3</td>\n",
       "      <td>1</td>\n",
       "      <td>1</td>\n",
       "      <td>0</td>\n",
       "      <td>0</td>\n",
       "      <td>1</td>\n",
       "      <td>0</td>\n",
       "      <td>...</td>\n",
       "      <td>0</td>\n",
       "      <td>0</td>\n",
       "      <td>0</td>\n",
       "      <td>0</td>\n",
       "      <td>0</td>\n",
       "      <td>0</td>\n",
       "      <td>0</td>\n",
       "      <td>0</td>\n",
       "      <td>0</td>\n",
       "      <td>0</td>\n",
       "    </tr>\n",
       "    <tr>\n",
       "      <th>4</th>\n",
       "      <td>M3gan</td>\n",
       "      <td>Horror,Sci-Fi,Thriller</td>\n",
       "      <td>robot engin toy compani build lifelik doll beg...</td>\n",
       "      <td>3</td>\n",
       "      <td>0</td>\n",
       "      <td>0</td>\n",
       "      <td>0</td>\n",
       "      <td>0</td>\n",
       "      <td>0</td>\n",
       "      <td>0</td>\n",
       "      <td>...</td>\n",
       "      <td>1</td>\n",
       "      <td>0</td>\n",
       "      <td>0</td>\n",
       "      <td>0</td>\n",
       "      <td>0</td>\n",
       "      <td>1</td>\n",
       "      <td>0</td>\n",
       "      <td>1</td>\n",
       "      <td>0</td>\n",
       "      <td>0</td>\n",
       "    </tr>\n",
       "  </tbody>\n",
       "</table>\n",
       "<p>5 rows × 25 columns</p>\n",
       "</div>"
      ],
      "text/plain": [
       "                               title                 new_genre  \\\n",
       "0           Avatar: The Way of Water  Action,Adventure,Fantasy   \n",
       "1                           The Menu           Horror,Thriller   \n",
       "2                            Babylon      Comedy,Drama,History   \n",
       "3  Everything Everywhere All at Once   Action,Adventure,Comedy   \n",
       "4                              M3gan    Horror,Sci-Fi,Thriller   \n",
       "\n",
       "                                              corpus  genre_length  action  \\\n",
       "0  jake sulli life newfound famili form extrasola...             3       1   \n",
       "1  young coupl travel remot island eat exclus res...             2       0   \n",
       "2  tale outsiz ambit outrag excess trace rise fal...             3       0   \n",
       "3  middleag chines immigr swept insan adventur al...             3       1   \n",
       "4  robot engin toy compani build lifelik doll beg...             3       0   \n",
       "\n",
       "   adventure  animation  biography  comedy  crime  ...  horror  music  \\\n",
       "0          1          0          0       0      0  ...       0      0   \n",
       "1          0          0          0       0      0  ...       1      0   \n",
       "2          0          0          0       1      0  ...       0      0   \n",
       "3          1          0          0       1      0  ...       0      0   \n",
       "4          0          0          0       0      0  ...       1      0   \n",
       "\n",
       "   musical  mystery  romance  sci-fi  sport  thriller  war  western  \n",
       "0        0        0        0       0      0         0    0        0  \n",
       "1        0        0        0       0      0         1    0        0  \n",
       "2        0        0        0       0      0         0    0        0  \n",
       "3        0        0        0       0      0         0    0        0  \n",
       "4        0        0        0       1      0         1    0        0  \n",
       "\n",
       "[5 rows x 25 columns]"
      ]
     },
     "execution_count": 35,
     "metadata": {},
     "output_type": "execute_result"
    }
   ],
   "source": [
    "df.head()"
   ]
  },
  {
   "cell_type": "code",
   "execution_count": 36,
   "id": "be71e9f6-6456-40c6-b2fe-356ede4b0aaf",
   "metadata": {
    "tags": []
   },
   "outputs": [],
   "source": [
    "genre_columns = df.drop(['title','new_genre','corpus','genre_length'],axis=1)"
   ]
  },
  {
   "cell_type": "code",
   "execution_count": 37,
   "id": "6ff77174-eaa7-44e9-a8cf-30775ee23d82",
   "metadata": {
    "tags": []
   },
   "outputs": [],
   "source": [
    "y = genre_columns"
   ]
  },
  {
   "cell_type": "code",
   "execution_count": 38,
   "id": "5022811a-796c-40eb-8770-736cdd99f930",
   "metadata": {
    "tags": []
   },
   "outputs": [
    {
     "data": {
      "text/plain": [
       "Index(['action', 'adventure', 'animation', 'biography', 'comedy', 'crime',\n",
       "       'drama', 'family', 'fantasy', 'film-noir', 'history', 'horror', 'music',\n",
       "       'musical', 'mystery', 'romance', 'sci-fi', 'sport', 'thriller', 'war',\n",
       "       'western'],\n",
       "      dtype='object')"
      ]
     },
     "execution_count": 38,
     "metadata": {},
     "output_type": "execute_result"
    }
   ],
   "source": [
    "y.columns"
   ]
  },
  {
   "cell_type": "code",
   "execution_count": 39,
   "id": "4f33b312-2c04-4f5a-b049-4efe9c3def8c",
   "metadata": {
    "tags": []
   },
   "outputs": [],
   "source": [
    "import nltk\n",
    "from nltk.tokenize import word_tokenize\n",
    "from gensim.models import Word2Vec\n",
    "import numpy as np\n",
    "\n",
    "# Tokenize the text\n",
    "df['tokens'] = df['corpus'].apply(word_tokenize)\n",
    "\n",
    "# Create a list of lists of tokens\n",
    "documents = df['tokens'].tolist()\n",
    "\n",
    "\n",
    "# Train the Word2Vec model\n",
    "model = Word2Vec(documents, vector_size=100, window=5, min_count=1, workers=4)\n",
    "\n",
    "\n",
    "\n",
    "# Encode the text data using Word2Vec\n",
    "X = np.zeros((len(documents), model.vector_size))\n",
    "for i, tokens in enumerate(documents):\n",
    "    X[i] = np.mean([model.wv[word] for word in tokens if word in model.wv], axis=0)\n",
    "\n",
    "# Create a new DataFrame with the Word2Vec embeddings\n",
    "embedding_cols = [f'embedding_{i}' for i in range(model.vector_size)]\n",
    "embedding_df = pd.DataFrame(X, columns=embedding_cols)\n",
    "\n",
    "# Concatenate the embedding DataFrame with the original DataFrame\n",
    "df = pd.concat([df, embedding_df], axis=1)"
   ]
  },
  {
   "cell_type": "code",
   "execution_count": 40,
   "id": "a579ec8b-76b1-43d1-bdba-d7d8e6d8d613",
   "metadata": {
    "tags": []
   },
   "outputs": [],
   "source": [
    "X = df[embedding_cols]"
   ]
  },
  {
   "cell_type": "code",
   "execution_count": 41,
   "id": "e57e9a54-812b-4cbe-b532-ae480ffed212",
   "metadata": {
    "tags": []
   },
   "outputs": [],
   "source": [
    "y = genre_columns"
   ]
  },
  {
   "cell_type": "code",
   "execution_count": 42,
   "id": "604d39e0-0c39-4e7f-8c3d-13e851d891b2",
   "metadata": {
    "tags": []
   },
   "outputs": [],
   "source": [
    "X_train, X_test, y_train, y_test = train_test_split(X, y, test_size=0.2, random_state=42)"
   ]
  },
  {
   "cell_type": "code",
   "execution_count": 46,
   "id": "d9b607fc-9823-45b8-99ec-48263362eade",
   "metadata": {
    "tags": []
   },
   "outputs": [
    {
     "name": "stdout",
     "output_type": "stream",
     "text": [
      "(61285, 100)\n",
      "(61285, 21)\n"
     ]
    }
   ],
   "source": [
    "print(X_train.shape)\n",
    "print(y_train.shape)"
   ]
  },
  {
   "cell_type": "markdown",
   "id": "e749ca19-a106-48f6-a67e-8dbd72001c5d",
   "metadata": {},
   "source": [
    "## Random Forest Classifier"
   ]
  },
  {
   "cell_type": "code",
   "execution_count": 53,
   "id": "87736ee5-6171-4b3f-b74e-065123c7ad07",
   "metadata": {
    "tags": []
   },
   "outputs": [
    {
     "name": "stdout",
     "output_type": "stream",
     "text": [
      "Random Forest Classifier accuracy: 0.75\n",
      "Random Forest Classifier precision: 0.97\n",
      "Random Forest Classifier f1-score: 0.85\n",
      "Random Forest Classifier Hamming loss: 0.03\n"
     ]
    }
   ],
   "source": [
    "rfc = RandomForestClassifier(n_estimators=100, random_state=42)\n",
    "rfc.fit(X_train, y_train)\n",
    "y_pred = rfc.predict(X_test)\n",
    "accuracy = accuracy_score(y_test, y_pred)\n",
    "precision = precision_score(y_test, y_pred, average='weighted', zero_division=1)\n",
    "f1 = f1_score(y_test, y_pred, average='weighted', zero_division=1)\n",
    "hamming = hamming_loss(y_test, y_pred)\n",
    "\n",
    "print(f\"Random Forest Classifier accuracy: {accuracy:.2f}\")\n",
    "print(f\"Random Forest Classifier precision: {precision:.2f}\")\n",
    "print(f\"Random Forest Classifier f1-score: {f1:.2f}\")\n",
    "print(f\"Random Forest Classifier Hamming loss: {hamming:.2f}\")"
   ]
  },
  {
   "cell_type": "markdown",
   "id": "9c0b1cb6-962d-4e8f-ac89-cc8056e559d6",
   "metadata": {},
   "source": [
    "## Decision Tree Classifier"
   ]
  },
  {
   "cell_type": "code",
   "execution_count": 92,
   "id": "11324966-cff4-48c5-9cfb-cc352391dfdc",
   "metadata": {
    "tags": []
   },
   "outputs": [
    {
     "name": "stdout",
     "output_type": "stream",
     "text": [
      "Decision Tree Classifier accuracy: 0.73\n",
      "Decision Tree Classifier precision: 0.81\n",
      "Decision Tree Classifier f1-score: 0.81\n",
      "Decision Tree Classifier Hamming loss: 0.04\n"
     ]
    }
   ],
   "source": [
    "from sklearn.tree import DecisionTreeClassifier\n",
    "\n",
    "dtc = DecisionTreeClassifier(random_state=42)\n",
    "dtc.fit(X_train, y_train)\n",
    "y_pred = dtc.predict(X_test)\n",
    "accuracy = accuracy_score(y_test, y_pred)\n",
    "precision = precision_score(y_test, y_pred, average='weighted', zero_division=1)\n",
    "f1 = f1_score(y_test, y_pred, average='weighted', zero_division=1)\n",
    "hamming = hamming_loss(y_test, y_pred)\n",
    "\n",
    "print(f\"Decision Tree Classifier accuracy: {accuracy:.2f}\")\n",
    "print(f\"Decision Tree Classifier precision: {precision:.2f}\")\n",
    "print(f\"Decision Tree Classifier f1-score: {f1:.2f}\")\n",
    "print(f\"Decision Tree Classifier Hamming loss: {hamming:.2f}\")"
   ]
  },
  {
   "cell_type": "code",
   "execution_count": null,
   "id": "c7b3bc91-f036-4365-8dcb-499e898cb07e",
   "metadata": {},
   "outputs": [],
   "source": []
  },
  {
   "cell_type": "code",
   "execution_count": null,
   "id": "5487b98e-9eb4-4fc6-8931-e4e321c05672",
   "metadata": {},
   "outputs": [],
   "source": []
  },
  {
   "cell_type": "code",
   "execution_count": null,
   "id": "d89eeebc-8fc7-49da-a11d-1d8d311ea3c3",
   "metadata": {},
   "outputs": [],
   "source": []
  },
  {
   "cell_type": "code",
   "execution_count": null,
   "id": "e5acc15e-3b7c-4f36-9539-7e4088f6db3e",
   "metadata": {},
   "outputs": [],
   "source": []
  },
  {
   "cell_type": "markdown",
   "id": "438a418a-0c10-4bc2-ae17-edcd7b5b7f4f",
   "metadata": {
    "tags": []
   },
   "source": [
    "## Saving the word2vec model and RCF as pickle"
   ]
  },
  {
   "cell_type": "code",
   "execution_count": 90,
   "id": "0f38451b-d4f8-4bc5-aff3-8735e9925060",
   "metadata": {
    "tags": []
   },
   "outputs": [],
   "source": [
    "# # Save the Word2Vec model\n",
    "# model.save(\"word2vec.model\")"
   ]
  },
  {
   "cell_type": "code",
   "execution_count": 91,
   "id": "5d3916a8-3514-4dd9-a9a1-7fb4abb84eea",
   "metadata": {
    "tags": []
   },
   "outputs": [],
   "source": [
    "# import pickle\n",
    "\n",
    "# # Save the Random Forest model\n",
    "# with open(\"random_forest_model.pkl\", \"wb\") as f:\n",
    "#     pickle.dump(rfc, f)"
   ]
  },
  {
   "cell_type": "code",
   "execution_count": 92,
   "id": "dd6e8c0e-8fb2-4d7f-9008-5a5d91bf3f12",
   "metadata": {
    "tags": []
   },
   "outputs": [],
   "source": [
    "# import pickle\n",
    "\n",
    "# with open('genre_columns.pkl', 'wb') as f:\n",
    "#     pickle.dump(genre_columns, f)\n"
   ]
  },
  {
   "cell_type": "code",
   "execution_count": 99,
   "id": "f3e0be08-dc1f-4714-963f-0d66cf5e1f73",
   "metadata": {
    "tags": []
   },
   "outputs": [
    {
     "name": "stdin",
     "output_type": "stream",
     "text": [
      "Enter a movie description:  family is haunted by demon\n"
     ]
    },
    {
     "name": "stdout",
     "output_type": "stream",
     "text": [
      "The predicted genre is [('Horror',)].\n"
     ]
    },
    {
     "name": "stderr",
     "output_type": "stream",
     "text": [
      "/Users/subashanannair/tensorflow-test/env/lib/python3.8/site-packages/sklearn/base.py:420: UserWarning: X does not have valid feature names, but RandomForestClassifier was fitted with feature names\n",
      "  warnings.warn(\n"
     ]
    }
   ],
   "source": [
    "import pandas as pd\n",
    "import nltk\n",
    "from nltk.tokenize import word_tokenize\n",
    "from gensim.models import Word2Vec\n",
    "import numpy as np\n",
    "import pickle\n",
    "\n",
    "# Load the trained Word2Vec model\n",
    "model = Word2Vec.load(\"word2vec.model\")\n",
    "\n",
    "# Load the trained Random Forest model\n",
    "rfc = pickle.load(open(\"random_forest_model.pkl\", \"rb\"))\n",
    "\n",
    "# Get user input\n",
    "user_input = input(\"Enter a movie description: \")\n",
    "\n",
    "# Tokenize user input\n",
    "tokens = word_tokenize(user_input)\n",
    "\n",
    "# Encode user input using Word2Vec\n",
    "X = np.mean([model.wv[word] for word in tokens if word in model.wv], axis=0).reshape(1, -1)\n",
    "\n",
    "\n",
    "# Predict the genre using the Random Forest model\n",
    "predicted_genre = rfc.predict(X)\n",
    "\n",
    "# Convert predicted genre to original labels using binarizer's inverse_transform method\n",
    "predicted_labels = binarizer.inverse_transform(predicted_genre)\n",
    "\n",
    "# # Predict the genre using the Random Forest model\n",
    "# # genre = rfc.predict(X)[0]\n",
    "# genre = rfc.predict(X)\n",
    "# genre_name = rfc.classes_[genre][0]\n",
    "\n",
    "print(f\"The predicted genre is {predicted_labels}.\")"
   ]
  },
  {
   "cell_type": "code",
   "execution_count": 103,
   "id": "9aee499c-d5f4-41ba-957a-dde9dfdb9d98",
   "metadata": {},
   "outputs": [
    {
     "name": "stdin",
     "output_type": "stream",
     "text": [
      "Enter a movie description:  family members are having fun while they fall in love\n"
     ]
    },
    {
     "name": "stdout",
     "output_type": "stream",
     "text": [
      "The predicted genre is ('Comedy', 'Drama', 'Romance').\n"
     ]
    },
    {
     "name": "stderr",
     "output_type": "stream",
     "text": [
      "/Users/subashanannair/tensorflow-test/env/lib/python3.8/site-packages/sklearn/base.py:420: UserWarning: X does not have valid feature names, but RandomForestClassifier was fitted with feature names\n",
      "  warnings.warn(\n"
     ]
    }
   ],
   "source": [
    "import pandas as pd\n",
    "import nltk\n",
    "from nltk.tokenize import word_tokenize\n",
    "from gensim.models import Word2Vec\n",
    "import numpy as np\n",
    "import pickle\n",
    "\n",
    "# Load the trained Word2Vec model\n",
    "model = Word2Vec.load(\"word2vec.model\")\n",
    "\n",
    "# Load the trained Random Forest model\n",
    "rfc = pickle.load(open(\"random_forest_model.pkl\", \"rb\"))\n",
    "\n",
    "# Load the binarizer\n",
    "binarizer = pickle.load(open(\"binarizer.pkl\", \"rb\"))\n",
    "\n",
    "# Get user input\n",
    "user_input = input(\"Enter a movie description: \")\n",
    "\n",
    "# Tokenize user input\n",
    "tokens = word_tokenize(user_input)\n",
    "\n",
    "# Encode user input using Word2Vec\n",
    "X = np.mean([model.wv[word] for word in tokens if word in model.wv], axis=0).reshape(1, -1)\n",
    "\n",
    "# Predict the genre using the Random Forest model\n",
    "predicted_genre = rfc.predict(X)\n",
    "\n",
    "# Convert predicted genre to original labels using binarizer's inverse_transform method\n",
    "predicted_labels = binarizer.inverse_transform(predicted_genre)\n",
    "\n",
    "print(f\"The predicted genre is {predicted_labels[0]}.\")"
   ]
  },
  {
   "cell_type": "markdown",
   "id": "660bee6f-63fe-4063-a92f-aab3e80af006",
   "metadata": {
    "tags": []
   },
   "source": [
    "# Final app"
   ]
  },
  {
   "cell_type": "code",
   "execution_count": 104,
   "id": "a2e557bf-cb7e-455b-b5da-866580622022",
   "metadata": {
    "tags": []
   },
   "outputs": [
    {
     "name": "stdin",
     "output_type": "stream",
     "text": [
      "Enter a movie description:  family members are having fun while they fall in love\n"
     ]
    },
    {
     "name": "stdout",
     "output_type": "stream",
     "text": [
      "The predicted genre is Comedy, Drama, Romance.\n"
     ]
    },
    {
     "name": "stderr",
     "output_type": "stream",
     "text": [
      "/Users/subashanannair/tensorflow-test/env/lib/python3.8/site-packages/sklearn/base.py:420: UserWarning: X does not have valid feature names, but RandomForestClassifier was fitted with feature names\n",
      "  warnings.warn(\n"
     ]
    }
   ],
   "source": [
    "import pandas as pd\n",
    "import nltk\n",
    "from nltk.tokenize import word_tokenize\n",
    "from gensim.models import Word2Vec\n",
    "import numpy as np\n",
    "import pickle\n",
    "\n",
    "# Load the trained Word2Vec model\n",
    "model = Word2Vec.load(\"word2vec.model\")\n",
    "\n",
    "# Load the trained Random Forest model\n",
    "rfc = pickle.load(open(\"random_forest_model.pkl\", \"rb\"))\n",
    "\n",
    "# Load the binarizer\n",
    "binarizer = pickle.load(open(\"binarizer.pkl\", \"rb\"))\n",
    "\n",
    "# Get user input\n",
    "user_input = input(\"Enter a movie description: \")\n",
    "\n",
    "# Tokenize user input\n",
    "tokens = word_tokenize(user_input)\n",
    "\n",
    "# Encode user input using Word2Vec\n",
    "X = np.mean([model.wv[word] for word in tokens if word in model.wv], axis=0).reshape(1, -1)\n",
    "\n",
    "# Predict the genre using the Random Forest model\n",
    "predicted_genre = rfc.predict(X)\n",
    "\n",
    "# Convert predicted genre to original labels using binarizer's inverse_transform method\n",
    "predicted_labels = binarizer.inverse_transform(predicted_genre)\n",
    "\n",
    "# Extract the predicted genres as a string without parentheses\n",
    "predicted_genre_str = \", \".join([label.replace(\"(\", \"\").replace(\")\", \"\").replace(\"'\", \"\") for label in predicted_labels[0]])\n",
    "\n",
    "print(f\"The predicted genre is {predicted_genre_str}.\")"
   ]
  },
  {
   "cell_type": "code",
   "execution_count": null,
   "id": "d2e96bf8-6dc6-40d2-bd8c-4954242ae669",
   "metadata": {},
   "outputs": [],
   "source": []
  }
 ],
 "metadata": {
  "kernelspec": {
   "display_name": "Python 3 (ipykernel)",
   "language": "python",
   "name": "python3"
  },
  "language_info": {
   "codemirror_mode": {
    "name": "ipython",
    "version": 3
   },
   "file_extension": ".py",
   "mimetype": "text/x-python",
   "name": "python",
   "nbconvert_exporter": "python",
   "pygments_lexer": "ipython3",
   "version": "3.8.16"
  }
 },
 "nbformat": 4,
 "nbformat_minor": 5
}
