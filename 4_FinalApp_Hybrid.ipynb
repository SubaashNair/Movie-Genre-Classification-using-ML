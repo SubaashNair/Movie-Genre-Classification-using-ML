{
 "cells": [
  {
   "cell_type": "code",
   "execution_count": 1,
   "id": "a757f2b6-9fb4-4c8e-8caf-27cac6011b68",
   "metadata": {
    "tags": []
   },
   "outputs": [
    {
     "name": "stdout",
     "output_type": "stream",
     "text": [
      "Running on local URL:  http://127.0.0.1:7860\n",
      "\n",
      "To create a public link, set `share=True` in `launch()`.\n"
     ]
    },
    {
     "data": {
      "text/html": [
       "<div><iframe src=\"http://127.0.0.1:7860/\" width=\"100%\" height=\"500\" allow=\"autoplay; camera; microphone; clipboard-read; clipboard-write;\" frameborder=\"0\" allowfullscreen></iframe></div>"
      ],
      "text/plain": [
       "<IPython.core.display.HTML object>"
      ]
     },
     "metadata": {},
     "output_type": "display_data"
    },
    {
     "data": {
      "text/plain": []
     },
     "execution_count": 1,
     "metadata": {},
     "output_type": "execute_result"
    }
   ],
   "source": [
    "import gradio as gr\n",
    "import pickle\n",
    "import gzip\n",
    "import numpy as np\n",
    "import pandas as pd\n",
    "\n",
    "\n",
    "with gzip.open(\"new_pickle/model.pklz\", \"rb\") as f:\n",
    "    w2v_model = pickle.load(f)\n",
    "    tfidf_vectorizer = pickle.load(f)\n",
    "    rfc = pickle.load(f)\n",
    "\n",
    "\n",
    "movie_data = pd.read_csv(\"finalmovie.csv\")\n",
    "\n",
    "def predict_genre(synopsis, num_titles):\n",
    "    # Process user input\n",
    "    user_input_processed = tfidf_vectorizer.transform([synopsis])\n",
    "    user_input_vector = np.zeros(w2v_model.vector_size)\n",
    "    for word in synopsis.split():\n",
    "        if word in w2v_model.wv.key_to_index:\n",
    "            word_vector = w2v_model.wv[word]\n",
    "            if word in tfidf_vectorizer.vocabulary_:\n",
    "                word_vector_tfidf = word_vector * user_input_processed[0, tfidf_vectorizer.vocabulary_[word]]\n",
    "            else:\n",
    "                word_vector_tfidf = word_vector\n",
    "            user_input_vector += word_vector_tfidf\n",
    "    user_input_vector /= len(synopsis.split())\n",
    "\n",
    "    # Predict the genre\n",
    "    genre_prediction = rfc.predict([user_input_vector])[0]\n",
    "    \n",
    "    # Filter the movie titles based on the predicted genre\n",
    "    movie_titles = movie_data[movie_data['new_genre'] == genre_prediction]['title'].tolist()\n",
    "    \n",
    "    # Limit the number of movie titles displayed based on the user input\n",
    "    if len(movie_titles) > num_titles:\n",
    "        movie_titles = movie_titles[:num_titles]\n",
    "    \n",
    "    # Format the movie titles as a bulleted list\n",
    "    movie_titles_bullet = \"\\n\".join([f\"- {title}\" for title in movie_titles])\n",
    "    \n",
    "    # Return the predicted genre and movie titles\n",
    "    return genre_prediction, movie_titles_bullet\n",
    "\n",
    "\n",
    "# Create the Gradio interface with a Slider for the number of suggested movie titles\n",
    "synopsis_input = gr.Textbox(label=\"Enter the synopsis of the movie\")\n",
    "num_titles_input = gr.Slider(minimum=5, maximum=20, step=5, label=\"Number of suggested movie titles\")\n",
    "genre_output = gr.Textbox(label=\"Predicted genre\")\n",
    "titles_output = gr.Textbox(label=\"Suggested movie titles with the predicted genre\")\n",
    "gr.Interface(fn=predict_genre, inputs=[synopsis_input, num_titles_input], outputs=[genre_output, titles_output], \n",
    "             title=\"GenreOracle (v1.0-beta1)\",\n",
    "             description=\"Enter the synopsis of a movie and get suggestions for similar movies\").launch()"
   ]
  },
  {
   "cell_type": "code",
   "execution_count": null,
   "id": "42a5dd85-720a-42a5-9c3b-03fd38ceea5a",
   "metadata": {},
   "outputs": [],
   "source": []
  }
 ],
 "metadata": {
  "kernelspec": {
   "display_name": "Python 3 (ipykernel)",
   "language": "python",
   "name": "python3"
  },
  "language_info": {
   "codemirror_mode": {
    "name": "ipython",
    "version": 3
   },
   "file_extension": ".py",
   "mimetype": "text/x-python",
   "name": "python",
   "nbconvert_exporter": "python",
   "pygments_lexer": "ipython3",
   "version": "3.8.16"
  }
 },
 "nbformat": 4,
 "nbformat_minor": 5
}
